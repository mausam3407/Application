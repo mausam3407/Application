{
  "nbformat": 4,
  "nbformat_minor": 0,
  "metadata": {
    "colab": {
      "name": "cats.ipynb",
      "provenance": [],
      "mount_file_id": "1fogxgZisX8amdiotc4dtbDPWdiOl-dru",
      "authorship_tag": "ABX9TyMp9DehVVnaSkyThrGkW/UI",
      "include_colab_link": true
    },
    "kernelspec": {
      "name": "python3",
      "display_name": "Python 3"
    },
    "language_info": {
      "name": "python"
    },
    "accelerator": "GPU"
  },
  "cells": [
    {
      "cell_type": "markdown",
      "metadata": {
        "id": "view-in-github",
        "colab_type": "text"
      },
      "source": [
        "<a href=\"https://colab.research.google.com/github/mausam3407/Application/blob/main/cats.ipynb\" target=\"_parent\"><img src=\"https://colab.research.google.com/assets/colab-badge.svg\" alt=\"Open In Colab\"/></a>"
      ]
    },
    {
      "cell_type": "code",
      "metadata": {
        "id": "3rdqHfmzd7Wa"
      },
      "source": [
        "import tensorflow as tf"
      ],
      "execution_count": 11,
      "outputs": []
    },
    {
      "cell_type": "code",
      "metadata": {
        "colab": {
          "base_uri": "https://localhost:8080/"
        },
        "id": "u8Ovo3r2tRuu",
        "outputId": "bf7bb450-3dec-4735-e744-1a2c7e4bd9b7"
      },
      "source": [
        "import zipfile\n",
        " \n",
        "zip_file = \"/content/drive/MyDrive/Kaggle/cat-breeds-dataset.zip\"\n",
        " \n",
        "try:\n",
        "    with zipfile.ZipFile(zip_file) as z:\n",
        "        z.extractall()\n",
        "        print(\"Extracted all\")\n",
        "except:\n",
        "    print(\"Invalid file\")"
      ],
      "execution_count": 2,
      "outputs": [
        {
          "output_type": "stream",
          "text": [
            "Extracted all\n"
          ],
          "name": "stdout"
        }
      ]
    },
    {
      "cell_type": "code",
      "metadata": {
        "id": "RNiYCF_Bt3fc"
      },
      "source": [
        "data = ['Bombay', 'Calico', 'Burmese', 'Himalayan','Munchkin', 'Ragdoll', 'Siberian', 'British Shorthair', 'Russian Blue', 'Dilute Calico']\n"
      ],
      "execution_count": 3,
      "outputs": []
    },
    {
      "cell_type": "code",
      "metadata": {
        "id": "QwsFJUUNtrk3"
      },
      "source": [
        "import os\n",
        "os.mkdir(f\"{os.getcwd()}/temp\")\n",
        "os.mkdir(f\"{os.getcwd()}/temp/training/\")\n",
        "os.mkdir(f\"{os.getcwd()}/temp/validation/\")\n",
        "os.mkdir(f\"{os.getcwd()}/temp/testing/\")"
      ],
      "execution_count": 4,
      "outputs": []
    },
    {
      "cell_type": "code",
      "metadata": {
        "id": "s609R2kAts09"
      },
      "source": [
        "for d in data:\n",
        "    os.mkdir(f\"{os.getcwd()}/temp/training/{d}\")\n",
        "    os.mkdir(f\"{os.getcwd()}/temp/validation/{d}\")\n",
        "    os.mkdir(f\"{os.getcwd()}/temp/testing/{d}\")"
      ],
      "execution_count": 5,
      "outputs": []
    },
    {
      "cell_type": "code",
      "metadata": {
        "id": "P-O2DTzWeJXn"
      },
      "source": [
        "def split_data(SOURCE, TRAINING,VALIDATION, TESTING):\n",
        "    files = os.listdir(SOURCE)\n",
        "    files = random.sample(files,len(files))\n",
        "    k = 0\n",
        "    for file in files:\n",
        "        k=k+1\n",
        "        source = os.path.join(SOURCE,file)\n",
        "        dest_tr = os.path.join(TRAINING,file)\n",
        "        dest_tt = os.path.join(TESTING,file)\n",
        "        dest_tv = os.path.join(VALIDATION,file)\n",
        "        if os.path.getsize(source)!=0:\n",
        "            if (k<=0.8*(len(files))):\n",
        "                copyfile(source,dest_tr)\n",
        "            elif (k<=0.9*(len(files))):\n",
        "                copyfile(source,dest_tt)\n",
        "            else:\n",
        "                copyfile(source,dest_tv)"
      ],
      "execution_count": 6,
      "outputs": []
    },
    {
      "cell_type": "code",
      "metadata": {
        "id": "vbzLXQVQubIC"
      },
      "source": [
        "import random\n",
        "from shutil import copyfile\n",
        "for d in data:\n",
        "    split_data(f\"{os.getcwd()}/images/{d}\",f\"{os.getcwd()}/temp/training/{d}\",f\"{os.getcwd()}/temp/validation/{d}\",f\"{os.getcwd()}/temp/testing/{d}\")\n",
        "    "
      ],
      "execution_count": 7,
      "outputs": []
    },
    {
      "cell_type": "code",
      "metadata": {
        "colab": {
          "base_uri": "https://localhost:8080/"
        },
        "id": "11VbfW81wRuJ",
        "outputId": "e8234e28-4bac-4359-e1d1-8ac1be8bbeb3"
      },
      "source": [
        "from tensorflow.keras.optimizers import RMSprop,Adam\n",
        "from tensorflow.keras.preprocessing.image import ImageDataGenerator\n",
        "TRAINING_DIR = f\"{os.getcwd()}/temp/training/\"\n",
        "train_datagen = ImageDataGenerator(\n",
        "      rescale=1./255,\n",
        "      rotation_range=40,\n",
        "      width_shift_range=0.2,\n",
        "      height_shift_range=0.2,\n",
        "      shear_range=0.2,\n",
        "      zoom_range=0.2,\n",
        "      horizontal_flip=True,\n",
        "      fill_mode='nearest')\n",
        "\n",
        "train_generator = train_datagen.flow_from_directory(TRAINING_DIR,\n",
        "                                                    batch_size=64,\n",
        "                                                    class_mode='categorical',\n",
        "                                                    target_size=(150, 150))\n",
        "\n",
        "VALIDATION_DIR = f\"{os.getcwd()}/temp/validation/\"\n",
        "validation_datagen = ImageDataGenerator(rescale=1./255)\n",
        "\n",
        "validation_generator = validation_datagen.flow_from_directory(VALIDATION_DIR,\n",
        "                                                    batch_size=64,\n",
        "                                                    class_mode='categorical',\n",
        "                                                    target_size=(150, 150))\n",
        "\n",
        "TEST_DIR = f\"{os.getcwd()}/temp/testing/\"\n",
        "test_datagen = ImageDataGenerator(rescale=1./255)\n",
        "test_generator = test_datagen.flow_from_directory(TEST_DIR,\n",
        "                                                    batch_size=32,\n",
        "                                                    class_mode='categorical',\n",
        "                                                    target_size=(150, 150))"
      ],
      "execution_count": 31,
      "outputs": [
        {
          "output_type": "stream",
          "text": [
            "Found 12520 images belonging to 10 classes.\n",
            "Found 1569 images belonging to 10 classes.\n",
            "Found 1565 images belonging to 10 classes.\n"
          ],
          "name": "stdout"
        }
      ]
    },
    {
      "cell_type": "code",
      "metadata": {
        "colab": {
          "base_uri": "https://localhost:8080/"
        },
        "id": "_1Bct0DEweGf",
        "outputId": "bc947648-bbc1-4c0d-eb4a-e7eb5d7e92eb"
      },
      "source": [
        "import tensorflow as tf\n",
        "from tensorflow.keras.applications.inception_v3 import InceptionV3\n",
        "model = InceptionV3(input_shape=(150, 150, 3),\n",
        "                                include_top=False,\n",
        "                                weights='imagenet')\n",
        "\n",
        "last_layer = model.get_layer('mixed10')\n",
        "print('last layer output shape: ', last_layer.output_shape)\n",
        "last_output = last_layer.output\n",
        "x = tf.keras.layers.Flatten()(last_output)\n",
        "# Add a fully connected layer with 1,024 hidden units and ReLU activation\n",
        "x = tf.keras.layers.Dense(1024, activation='relu')(x)\n",
        "# Add a final sigmoid layer for classification\n",
        "x = tf.keras.layers.Dense(10, activation='softmax')(x)\n",
        "\n",
        "model = tf.keras.Model(model.input, x)\n"
      ],
      "execution_count": 15,
      "outputs": [
        {
          "output_type": "stream",
          "text": [
            "last layer output shape:  (None, 3, 3, 2048)\n"
          ],
          "name": "stdout"
        }
      ]
    },
    {
      "cell_type": "code",
      "metadata": {
        "id": "FqCgzUhx0pQt",
        "outputId": "9f9680a6-3a72-4bbe-94c5-f905704700e0",
        "colab": {
          "base_uri": "https://localhost:8080/"
        }
      },
      "source": [
        "model.compile(optimizer=RMSprop(lr=0.0001),\n",
        "              loss='categorical_crossentropy',\n",
        "              metrics=['acc'])"
      ],
      "execution_count": 18,
      "outputs": [
        {
          "output_type": "stream",
          "text": [
            "/usr/local/lib/python3.7/dist-packages/tensorflow/python/keras/optimizer_v2/optimizer_v2.py:375: UserWarning: The `lr` argument is deprecated, use `learning_rate` instead.\n",
            "  \"The `lr` argument is deprecated, use `learning_rate` instead.\")\n"
          ],
          "name": "stderr"
        }
      ]
    },
    {
      "cell_type": "code",
      "metadata": {
        "colab": {
          "base_uri": "https://localhost:8080/"
        },
        "id": "RVSJdNaqwrIR",
        "outputId": "eeafa04c-5601-4e29-f9cd-f5928c8fe9bb"
      },
      "source": [
        "callback = tf.keras.callbacks.EarlyStopping(monitor='val_acc', patience=5)\n",
        "from PIL import ImageFile\n",
        "ImageFile.LOAD_TRUNCATED_IMAGES = True\n",
        "history = model.fit(train_generator,\n",
        "                              epochs=20,\n",
        "                              verbose=1,\n",
        "                   validation_data=validation_generator,\n",
        "                    callbacks=[callback])"
      ],
      "execution_count": 19,
      "outputs": [
        {
          "output_type": "stream",
          "text": [
            "Epoch 1/20\n",
            "196/196 [==============================] - 119s 546ms/step - loss: 1.4412 - acc: 0.5260 - val_loss: 1.0228 - val_acc: 0.6807\n",
            "Epoch 2/20\n",
            "196/196 [==============================] - 105s 535ms/step - loss: 0.9671 - acc: 0.6601 - val_loss: 0.9875 - val_acc: 0.6864\n",
            "Epoch 3/20\n",
            "196/196 [==============================] - 104s 530ms/step - loss: 0.8495 - acc: 0.7043 - val_loss: 1.0876 - val_acc: 0.6979\n",
            "Epoch 4/20\n",
            "196/196 [==============================] - 103s 526ms/step - loss: 0.7787 - acc: 0.7320 - val_loss: 1.0257 - val_acc: 0.7055\n",
            "Epoch 5/20\n",
            "196/196 [==============================] - 105s 535ms/step - loss: 0.7255 - acc: 0.7496 - val_loss: 0.8855 - val_acc: 0.7215\n",
            "Epoch 6/20\n",
            "196/196 [==============================] - 103s 524ms/step - loss: 0.6727 - acc: 0.7660 - val_loss: 0.9794 - val_acc: 0.7298\n",
            "Epoch 7/20\n",
            "196/196 [==============================] - 105s 534ms/step - loss: 0.6386 - acc: 0.7749 - val_loss: 1.1816 - val_acc: 0.7100\n",
            "Epoch 8/20\n",
            "196/196 [==============================] - 105s 533ms/step - loss: 0.5956 - acc: 0.7899 - val_loss: 1.2485 - val_acc: 0.7259\n",
            "Epoch 9/20\n",
            "196/196 [==============================] - 103s 526ms/step - loss: 0.5550 - acc: 0.8005 - val_loss: 1.4468 - val_acc: 0.7068\n",
            "Epoch 10/20\n",
            "196/196 [==============================] - 104s 529ms/step - loss: 0.5257 - acc: 0.8198 - val_loss: 2.0672 - val_acc: 0.7113\n",
            "Epoch 11/20\n",
            "196/196 [==============================] - 104s 529ms/step - loss: 0.4996 - acc: 0.8292 - val_loss: 1.4727 - val_acc: 0.7157\n",
            "Epoch 12/20\n",
            "196/196 [==============================] - 105s 533ms/step - loss: 0.4693 - acc: 0.8391 - val_loss: 1.5236 - val_acc: 0.6973\n",
            "Epoch 13/20\n",
            "196/196 [==============================] - 103s 524ms/step - loss: 0.4415 - acc: 0.8395 - val_loss: 1.8425 - val_acc: 0.6622\n",
            "Epoch 14/20\n",
            "196/196 [==============================] - 104s 531ms/step - loss: 0.4349 - acc: 0.8453 - val_loss: 1.7453 - val_acc: 0.6941\n",
            "Epoch 15/20\n",
            "196/196 [==============================] - 104s 531ms/step - loss: 0.4018 - acc: 0.8584 - val_loss: 1.9173 - val_acc: 0.7106\n",
            "Epoch 16/20\n",
            "196/196 [==============================] - 103s 527ms/step - loss: 0.3700 - acc: 0.8694 - val_loss: 2.3388 - val_acc: 0.7157\n",
            "Epoch 17/20\n",
            "196/196 [==============================] - 104s 532ms/step - loss: 0.3629 - acc: 0.8744 - val_loss: 1.9565 - val_acc: 0.7177\n",
            "Epoch 18/20\n",
            "196/196 [==============================] - 104s 532ms/step - loss: 0.3505 - acc: 0.8782 - val_loss: 2.3239 - val_acc: 0.7393\n",
            "Epoch 19/20\n",
            "196/196 [==============================] - 104s 528ms/step - loss: 0.3250 - acc: 0.8866 - val_loss: 3.1766 - val_acc: 0.6934\n",
            "Epoch 20/20\n",
            "196/196 [==============================] - 103s 526ms/step - loss: 0.3171 - acc: 0.8893 - val_loss: 2.1154 - val_acc: 0.7100\n"
          ],
          "name": "stdout"
        }
      ]
    },
    {
      "cell_type": "code",
      "metadata": {
        "id": "Bg3C1B-e6mLj"
      },
      "source": [
        "model.save('/content/drive/MyDrive/Kaggle/cat_model.h5')"
      ],
      "execution_count": 20,
      "outputs": []
    },
    {
      "cell_type": "code",
      "metadata": {
        "id": "7slQX_leA774"
      },
      "source": [
        "labels = test_generator.labels\n",
        "test_generator.shuffle = False\n",
        "pred = model.predict(test_generator)"
      ],
      "execution_count": 65,
      "outputs": []
    },
    {
      "cell_type": "code",
      "metadata": {
        "id": "LReYCiNrBbfO",
        "outputId": "38a6deb2-abbd-442e-82d3-d8dd69344171",
        "colab": {
          "base_uri": "https://localhost:8080/"
        }
      },
      "source": [
        "m = tf.keras.metrics.Accuracy()\n",
        "m.update_state(pred.argmax(axis=1),labels)\n",
        "print(f\"Accuray: {m.result().numpy()}\")"
      ],
      "execution_count": 68,
      "outputs": [
        {
          "output_type": "stream",
          "text": [
            "Accuray: 0.7015974521636963\n"
          ],
          "name": "stdout"
        }
      ]
    },
    {
      "cell_type": "code",
      "metadata": {
        "id": "CbKnnOPUFPhX",
        "outputId": "9df7818d-d223-4723-9816-71058b16baad",
        "colab": {
          "base_uri": "https://localhost:8080/"
        }
      },
      "source": [
        "from sklearn.metrics import f1_score\n",
        "print(f\"f1_score: {f1_score(labels,pred.argmax(axis=1),average='weighted')}\")"
      ],
      "execution_count": 73,
      "outputs": [
        {
          "output_type": "stream",
          "text": [
            "f1_score: 0.6870487733790145\n"
          ],
          "name": "stdout"
        }
      ]
    },
    {
      "cell_type": "code",
      "metadata": {
        "id": "gckS1DsKIedF",
        "outputId": "76e26dd0-d60c-4b67-9d4a-cb1408107130",
        "colab": {
          "base_uri": "https://localhost:8080/"
        }
      },
      "source": [
        "from sklearn.metrics import confusion_matrix\n",
        "print(f\"Confusion Matrix: \\n{confusion_matrix(labels,pred.argmax(axis=1))}\")"
      ],
      "execution_count": 83,
      "outputs": [
        {
          "output_type": "stream",
          "text": [
            "Confusion Matrix: \n",
            "[[173   0   0   3   0   1   0   1   5   0]\n",
            " [  7  17   0   5   8   0   2   8  10   0]\n",
            " [ 10   0   8   1   1   2   0  10   2   0]\n",
            " [  2   1   0 271  53   2   0   9   9   0]\n",
            " [  0   7   0  68 184   1   1  25  37   0]\n",
            " [  2   1   1   2   1  68   0  54   1   0]\n",
            " [  4   1   2   1   5   0   1   4   0   0]\n",
            " [  4   8   3  13   4  31   0 201   3   0]\n",
            " [  2   4   0   2   4   0   0   3 172   0]\n",
            " [  0   0   1   1   1   1   0  11   1   3]]\n"
          ],
          "name": "stdout"
        }
      ]
    }
  ]
}