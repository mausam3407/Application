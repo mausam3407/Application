{
 "cells": [
  {
   "cell_type": "markdown",
   "metadata": {},
   "source": [
    "### Some of these queries might throw some errrors as I couldn't check it properly and had no real table to actually observe the data. But logic that I've used is correct as per my knowledge."
   ]
  },
  {
   "cell_type": "markdown",
   "metadata": {},
   "source": [
    "### Question 1"
   ]
  },
  {
   "cell_type": "code",
   "execution_count": null,
   "metadata": {},
   "outputs": [],
   "source": [
    "%%sql\n",
    "select Customer_Id,max(Nav Value*N0_of_Units) as \"Transaction_value\"\n",
    "from Mutual_Fund_Transaction_Table\n",
    "where Transaction_Status = \"Success\" and Transaction_Type = \"Purchase\"  "
   ]
  },
  {
   "cell_type": "markdown",
   "metadata": {},
   "source": [
    "### Question 2"
   ]
  },
  {
   "cell_type": "code",
   "execution_count": null,
   "metadata": {},
   "outputs": [],
   "source": [
    "%%sql\n",
    "select count(Transaction_Id)\n",
    "from Mutual_Fund_Transaction_Table\n",
    "where extract(year from Transaction_Time) = '2019'\n",
    "and extract(month from Transaction_Time) = '04'"
   ]
  },
  {
   "cell_type": "markdown",
   "metadata": {},
   "source": [
    "### Question 3"
   ]
  },
  {
   "cell_type": "code",
   "execution_count": null,
   "metadata": {},
   "outputs": [],
   "source": [
    "%%sql\n",
    "select count(Customer_Id)\n",
    "from Customer_Details\n",
    "where extract(year from Customer_Join_Time)='2019'\n",
    "and extract(month from Customer_Join_Time)='01'\n",
    "and banned = 1\n",
    "and Customer_Id in(select Customer_Id,count(Transaction_Id) as \"Total_no_of_transaction\"\n",
    "                  from Mutual_Fund_Transaction_Table\n",
    "                  group by Customer_Id\n",
    "                  where \"Total_no_of_transaction\">=4)\n",
    "                  "
   ]
  },
  {
   "cell_type": "markdown",
   "metadata": {},
   "source": [
    "### Question 4A"
   ]
  },
  {
   "cell_type": "code",
   "execution_count": null,
   "metadata": {},
   "outputs": [],
   "source": [
    "%%sql\n",
    "select Customer_Id,sum(Nav Value*N0_of_Units) as \"Transaction_value\"\n",
    "from Mutual_Fund_Transaction_Table\n",
    "where Transaction_Status = \"Success\" \n",
    "and Transaction_Type = \"Purchase\"\n",
    "and Customer_Id in(select Customer_Id\n",
    "                  from Customer_Details\n",
    "                  where gender=\"Male\")\n",
    "group by Customer_Id\n",
    "order by \"Transaction_value\" desc limit 5"
   ]
  },
  {
   "cell_type": "markdown",
   "metadata": {},
   "source": [
    "### Question 4B"
   ]
  },
  {
   "cell_type": "code",
   "execution_count": null,
   "metadata": {},
   "outputs": [],
   "source": [
    "%%sql\n",
    "select Customer_Id,sum(Nav Value*N0_of_Units) as \"Transaction_value\"\n",
    "from Mutual_Fund_Transaction_Table\n",
    "where Transaction_Status = \"Success\" \n",
    "and Transaction_Type = \"Purchase\"\n",
    "and Customer_Id in(select Customer_Id\n",
    "                  from Customer_Details\n",
    "                  where gender=\"Female\")\n",
    "group by Customer_Id\n",
    "order by \"Transaction_value\" desc limit 5"
   ]
  },
  {
   "cell_type": "markdown",
   "metadata": {},
   "source": [
    "### Question 5"
   ]
  },
  {
   "cell_type": "code",
   "execution_count": null,
   "metadata": {},
   "outputs": [],
   "source": [
    "%%sql\n",
    "select sum(No_of_Units) as 'GMV_months',extract(month from Transaction_Time) as 'Month'\n",
    "from Mutual_Fund_Transaction_Table\n",
    "where Transaction_Status = \"Success\" \n",
    "and Transaction_Type = \"Purchase\"\n",
    "and Customer_Id in(select Customer_Id\n",
    "                  from Mutual_Fund_Transaction_Table\n",
    "                  where extract(month from Transaction_Time)='01'\n",
    "                        and Transaction_Status = \"Success\" \n",
    "                        and Transaction_Type = \"Purchase\")\n",
    "group by 'Month'"
   ]
  },
  {
   "cell_type": "markdown",
   "metadata": {},
   "source": [
    "# Thanks"
   ]
  }
 ],
 "metadata": {
  "kernelspec": {
   "display_name": "Python 3",
   "language": "python",
   "name": "python3"
  },
  "language_info": {
   "codemirror_mode": {
    "name": "ipython",
    "version": 3
   },
   "file_extension": ".py",
   "mimetype": "text/x-python",
   "name": "python",
   "nbconvert_exporter": "python",
   "pygments_lexer": "ipython3",
   "version": "3.8.3"
  }
 },
 "nbformat": 4,
 "nbformat_minor": 4
}
